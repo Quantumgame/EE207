{
 "cells": [
  {
   "cell_type": "code",
   "execution_count": 1,
   "metadata": {
    "collapsed": true,
    "deletable": false,
    "nbgrader": {
     "checksum": "8cdbc1f7cb70c36a7bf6494aa0809540",
     "grade": false,
     "grade_id": "setup",
     "locked": true,
     "solution": false
    }
   },
   "outputs": [],
   "source": [
    "# Notebook setup\n",
    "import nengo                                # neural network simulation library\n",
    "from nengo.utils.functions import piecewise # useful for defining a piecewise function of time\n",
    "import numpy as np                          # a scientific computing library\n",
    "from matplotlib import pyplot as plt        # a plotting library\n",
    "from mpl_toolkits.mplot3d import Axes3D     # necessary for generating 3D plots\n",
    "plt.rcParams['axes.labelsize'] = 20         # set default plot axes label font size\n",
    "plt.rcParams['axes.titlesize'] = 24         # set default plot title font size\n",
    "plt.rcParams['legend.fontsize'] = 18        # set default plot legend font size\n",
    "# make plots inline in the notebook instead of creating a new window\n",
    "%matplotlib inline\n",
    "\n",
    "# Use this function when asked to compute the RMSE\n",
    "def compute_rmse(x, y):\n",
    "    \"\"\"Computes the root mean-square error\"\"\"\n",
    "    assert np.array_equal(x.shape, y.shape), (\n",
    "        'x %s and y %s shapes do not match. Fix them before using compute_rmse.' % \n",
    "        (str(x.shape), str(y.shape)))\n",
    "    ret = np.sqrt(np.mean((x-y)**2))\n",
    "    return ret"
   ]
  },
  {
   "cell_type": "markdown",
   "metadata": {},
   "source": [
    "# 3) Dynamics\n",
    "\n",
    "In class, we discuss how the dynamics of the neurons, in particular the synapses, determine the dynamics of an NEF network's computation and how we can use these dynamics to build networks that implement dynamical systems. \n",
    "\n",
    "## 3.1) Dynamics in the decode\n",
    "Nengo supports three modes of simulation: direct mode, rate mode, and spiking mode.\n",
    "\n",
    "Each mode includes a different amount of detail in its simulation of the neurons underlying the network. \n",
    "\n",
    "- In direct mode, the neurons are not simulated. Rather, direct mode just \"does the math\" programmed in the connections.\n",
    "- In rate mode, the neurons output their instantaneous rate instead of spikes.\n",
    "- In spiking mode, the neurons dynamics are simulated and neurons output spikes.\n",
    "\n",
    "In all modes, however, the synaptic dynamics are simulated.\n",
    "Direct mode and rate mode are useful for debugging your networks. \n",
    "\n",
    "### 3.1.1) Compare the nengo run modes\n",
    "Create a network with a single, 1D ensemble that decodes identity. Run the simulation in each of the aforementioned modes. For each mode:\n",
    " - Make a plot containing the input overlaid with the decode\n",
    " - Make a plot of the error between the input and the decode\n",
    " - Print the RMSE\n",
    "\n",
    "Use the [Direct](https://pythonhosted.org/nengo/user_api.html#nengo.neurons.Direct), [LIFRate](https://pythonhosted.org/nengo/user_api.html#nengo.neurons.LIFRate), and [LIF](https://pythonhosted.org/nengo/user_api.html#nengo.neurons.LIF) neuron models in the Nengo to implement each simulation mode."
   ]
  },
  {
   "cell_type": "code",
   "execution_count": null,
   "metadata": {
    "deletable": false,
    "nbgrader": {
     "checksum": "2ee8fb64c708792aac7464d19facf39e",
     "grade": true,
     "grade_id": "3_1_1",
     "locked": false,
     "points": 1,
     "solution": true
    }
   },
   "outputs": [],
   "source": [
    "# Use the following in your simulation\n",
    "N = 50  # number of neurons\n",
    "in_fun = lambda t: np.sin(2*np.pi*t)  # input function to the network\n",
    "\n",
    "\n",
    "# YOUR CODE HERE\n",
    "raise NotImplementedError()"
   ]
  },
  {
   "cell_type": "markdown",
   "metadata": {
    "deletable": false,
    "nbgrader": {
     "checksum": "d0b9853e4f9dce2a6fb4436a42def595",
     "grade": true,
     "grade_id": "3_1_1_2",
     "locked": false,
     "points": 1,
     "solution": true
    }
   },
   "source": [
    "What happens when you use a short synaptic time constant for the Probe versus a long synaptic time constant?\n",
    "\n",
    "YOUR ANSWER HERE"
   ]
  },
  {
   "cell_type": "markdown",
   "metadata": {
    "deletable": false,
    "nbgrader": {
     "checksum": "12fec2cfaf3b6b254000700f326c8028",
     "grade": true,
     "grade_id": "3_1_2",
     "locked": false,
     "points": 1,
     "solution": true
    }
   },
   "source": [
    "### 3.1.2 ) Decode error source\n",
    "What are the sources of decode error introduced with increasing levels of neuron simulation (i.e. which neuron model used) detail?\n",
    "\n",
    "YOUR ANSWER HERE"
   ]
  },
  {
   "cell_type": "markdown",
   "metadata": {},
   "source": [
    "## 3.2) Linear dynamics\n",
    "Recall that a linear dynamical system is described by\n",
    "\n",
    "$$\n",
    "\\dot{\\mathbf{x}} = A\\mathbf{x} + B\\mathbf{u}\n",
    "$$\n",
    "\n",
    "A recurrently connected NEF Ensemble can compute\n",
    "\n",
    "$$\n",
    "\\mathbf{x}(t) = h(t)*(A'\\mathbf{x}(t) + B'\\mathbf{u}(t))\n",
    "$$\n",
    "\n",
    "where $h(t)$ is the synaptic impulse response. For a first-order, low-pass filter synapse, \n",
    "\n",
    "$$\n",
    "h(t)=\\frac{1}{\\tau_{syn}}e^{-t/\\tau}\\upsilon(t)\n",
    "$$\n",
    "\n",
    "where $\\upsilon(t)$ is the unit step function. In class, we learn how arbitrary, linear dynamical systems can be implemented using the recurrently connected NEF ensemble."
   ]
  },
  {
   "cell_type": "markdown",
   "metadata": {},
   "source": [
    "#### 3.2.1) Make a 2D oscillator\n",
    "Implement the simple 2D oscillator using a spiking neural network. The oscillator dynamics are given by\n",
    "\n",
    "$$\n",
    "\\begin{bmatrix}\n",
    "\\dot{x}_0 \\\\\n",
    "\\dot{x}_1 \\\\\n",
    "\\end{bmatrix} =\n",
    "\\begin{bmatrix}\n",
    "0 & 1 \\\\\n",
    "-1 & 0 \\\\\n",
    "\\end{bmatrix}\n",
    "\\begin{bmatrix}\n",
    "x_0 \\\\\n",
    "x_1 \\\\\n",
    "\\end{bmatrix}\n",
    "+ \n",
    "\\begin{bmatrix}\n",
    "u_0 \\\\\n",
    "u_1 \\\\\n",
    "\\end{bmatrix}\n",
    "$$\n",
    "\n",
    "- Make a plot of the decoded output over time.\n",
    "- Make a plot of the first decoded output dimension against the second decoded output dimension.\n",
    "- Add direct mode simulation results to the plots for comparison.\n",
    "\n",
    "(Hint: Try varying the number of neurons and the synaptic time constant. When does the network implement the dynamical system well?)"
   ]
  },
  {
   "cell_type": "code",
   "execution_count": null,
   "metadata": {
    "deletable": false,
    "nbgrader": {
     "checksum": "ca4bf6b4e068fafc160658eb3ce81dc9",
     "grade": true,
     "grade_id": "3_2_1",
     "locked": false,
     "points": 1,
     "solution": true
    }
   },
   "outputs": [],
   "source": [
    "# Use the following in your simulation\n",
    "T = 20.       # duration of simulation\n",
    "stim = piecewise({0:[1., 0.], 1.:[0., 0.]})  # input function to your network\n",
    "\n",
    "\n",
    "# YOUR CODE HERE\n",
    "raise NotImplementedError()"
   ]
  },
  {
   "cell_type": "markdown",
   "metadata": {},
   "source": [
    "## 3.3) Nonlinear dynamical systems\n",
    "\n",
    "Here we will consider nonlinear systems of the form\n",
    "\n",
    "$$\n",
    "\\dot{\\mathbf{x}} = f(\\mathbf{x})+B\\mathbf{u}\n",
    "$$\n",
    "\n",
    "where $f$ is some nonlinear function."
   ]
  },
  {
   "cell_type": "markdown",
   "metadata": {
    "deletable": false,
    "nbgrader": {
     "checksum": "e152875c7aeff9f311a430ce8e1e0cb8",
     "grade": true,
     "grade_id": "3_3_1",
     "locked": false,
     "points": 1,
     "solution": true
    }
   },
   "source": [
    "### 3.3.1) Derive the recurrent connection function \n",
    "Describe (i.e. derive) how we can implement this dynamical system using a recurrently connected ensemble of neurons. Assume that we're using first-order, low-pass filter synapses.\n",
    "\n",
    "YOUR ANSWER HERE"
   ]
  },
  {
   "cell_type": "markdown",
   "metadata": {},
   "source": [
    "### 3.3.2) Implement a nonlinear dynamical system\n",
    "Build and simulate a spiking neural network that implements the 2D nonlinear dynamical [Van der Pol oscillator](https://en.wikipedia.org/wiki/Van_der_Pol_oscillator)\n",
    "\n",
    "\\begin{align*}\n",
    "\\dot{x} &= y \\\\\n",
    "\\dot{y} &= \\mu(1-x^2)y-x \\\\\n",
    "\\end{align*}\n",
    "\n",
    "Also simulate the network in direct mode.\n",
    "- Make a plot of the decoded output over time.\n",
    "- Add direct mode simulation results to the plot for comparison."
   ]
  },
  {
   "cell_type": "code",
   "execution_count": null,
   "metadata": {
    "deletable": false,
    "nbgrader": {
     "checksum": "b141ab81e4ba3220817d33a0a81a0705",
     "grade": true,
     "grade_id": "3_3_2",
     "locked": false,
     "points": 1,
     "solution": true
    }
   },
   "outputs": [],
   "source": [
    "# Use these in your simulation\n",
    "T = 20.  # duration of simulation\n",
    "stim = piecewise({0.:[1., 0.], 1.:[0., 0.]})  # Use this as the input function to your network\n",
    "mu = 1.  # damping coefficient\n",
    "\n",
    "\n",
    "# YOUR CODE HERE\n",
    "raise NotImplementedError()"
   ]
  }
 ],
 "metadata": {
  "hide_input": false,
  "kernelspec": {
   "display_name": "Python 3",
   "language": "python",
   "name": "python3"
  },
  "language_info": {
   "codemirror_mode": {
    "name": "ipython",
    "version": 3
   },
   "file_extension": ".py",
   "mimetype": "text/x-python",
   "name": "python",
   "nbconvert_exporter": "python",
   "pygments_lexer": "ipython3",
   "version": "3.5.2"
  }
 },
 "nbformat": 4,
 "nbformat_minor": 1
}
