{
 "cells": [
  {
   "cell_type": "code",
   "execution_count": 8,
   "metadata": {
    "collapsed": true
   },
   "outputs": [],
   "source": [
    "import numpy as np \n",
    "from numpy import matlib\n",
    "# import cvxpy\n",
    "import matplotlib.pyplot as plt\n",
    "\n",
    "import nengo \n",
    "from nengo.dists import Choice \n",
    "from nengo.utils.ensemble import tuning_curves\n",
    "from nengo.utils.matplotlib import rasterplot\n",
    "from nengo.neurons import Direct\n",
    "\n",
    "# import tensorflow as tf\n",
    "import gym\n",
    "import pickle \n",
    "\n",
    "import pdb\n"
   ]
  },
  {
   "cell_type": "code",
   "execution_count": 9,
   "metadata": {
    "collapsed": true
   },
   "outputs": [],
   "source": [
    "def LIF(X, tau_rc=0.02, tau_ref=0.0):\n",
    "    f = np.zeros_like(X)\n",
    "    x = X - 1\n",
    "    f[x>0] = 1.0/(tau_ref + tau_rc * np.log1p(1.0 / x[x>0]))\n",
    "    return f "
   ]
  },
  {
   "cell_type": "code",
   "execution_count": 19,
   "metadata": {
    "collapsed": true
   },
   "outputs": [],
   "source": [
    "X = np.arange(-2.0,2.0,0.01)\n",
    "F = LIF(X)"
   ]
  },
  {
   "cell_type": "code",
   "execution_count": 20,
   "metadata": {
    "collapsed": false
   },
   "outputs": [
    {
     "data": {
      "image/png": "[encoded data removed]",
      "text/plain": [
       "<matplotlib.figure.Figure at 0x13fccdc3828>"
      ]
     },
     "metadata": {},
     "output_type": "display_data"
    }
   ],
   "source": [
    "plt.figure()\n",
    "plt.plot(X,F)\n",
    "plt.show()"
   ]
  },
  {
   "cell_type": "code",
   "execution_count": 12,
   "metadata": {
    "collapsed": true
   },
   "outputs": [],
   "source": [
    "def invLIF(F, tau_rc=0.02, tau_ref=0.0):\n",
    "    X_pos = np.zeros_like(F)\n",
    "    X_neg = np.zeros_like(F)\n",
    "    X = np.zeros_like(F)\n",
    "    X_pos[F>0] = 1.0/(np.exp((1.0/F[F>0]-tau_ref)*(1/tau_rc))-1) + 1.0\n",
    "    X_neg[F<0] = 1.0/(np.exp((-1.0/F[F<0]-tau_ref)*(1/tau_rc))-1) + 1.0\n",
    "    X_neg *= -1.0\n",
    "    X += X_pos + X_neg\n",
    "#     pdb.set_trace()\n",
    "    return X"
   ]
  },
  {
   "cell_type": "code",
   "execution_count": 17,
   "metadata": {
    "collapsed": false
   },
   "outputs": [],
   "source": [
    "X_ = invLIF(F)\n",
    "F_ = LIF(X_)"
   ]
  },
  {
   "cell_type": "code",
   "execution_count": 18,
   "metadata": {
    "collapsed": false
   },
   "outputs": [
    {
     "data": {
      "image/png": "[encoded data removed]",
      "text/plain": [
       "<matplotlib.figure.Figure at 0x13fccfaeba8>"
      ]
     },
     "metadata": {},
     "output_type": "display_data"
    }
   ],
   "source": [
    "plt.figure()\n",
    "plt.plot(X_, F_, 'o')\n",
    "plt.plot(X,F)\n",
    "plt.show()"
   ]
  },
  {
   "cell_type": "code",
   "execution_count": null,
   "metadata": {
    "collapsed": true
   },
   "outputs": [],
   "source": []
  }
 ],
 "metadata": {
  "kernelspec": {
   "display_name": "Python [conda env:ipykernel_35]",
   "language": "python",
   "name": "conda-env-ipykernel_35-py"
  },
  "language_info": {
   "codemirror_mode": {
    "name": "ipython",
    "version": 3
   },
   "file_extension": ".py",
   "mimetype": "text/x-python",
   "name": "python",
   "nbconvert_exporter": "python",
   "pygments_lexer": "ipython3",
   "version": "3.5.3"
  }
 },
 "nbformat": 4,
 "nbformat_minor": 1
}
